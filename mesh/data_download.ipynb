{
 "cells": [
  {
   "cell_type": "code",
   "execution_count": 1,
   "metadata": {},
   "outputs": [
    {
     "name": "stdout",
     "output_type": "stream",
     "text": [
      "영상 다운로드 및 파일명 설정 중...\n",
      "[youtube] Extracting URL: https://www.youtube.com/shorts/Gt1W0B3Rg_Y?feature=share\n",
      "[youtube] Gt1W0B3Rg_Y: Downloading webpage\n",
      "[youtube] Gt1W0B3Rg_Y: Downloading tv player API JSON\n",
      "[youtube] Gt1W0B3Rg_Y: Downloading ios player API JSON\n",
      "[youtube] Gt1W0B3Rg_Y: Downloading m3u8 information\n",
      "[info] Gt1W0B3Rg_Y: Downloading 1 format(s): 18\n",
      "[download] Destination: Basic Boxing Footwork #boxing #boxingtraining #footwork.mp4\n",
      "[download] 100% of  295.04KiB in 00:00:00 at 3.40MiB/s     \n",
      "'Basic Boxing Footwork #boxing #boxingtraining #footwork.mp4' 파일이 저장되었습니다.\n"
     ]
    }
   ],
   "source": [
    "import yt_dlp\n",
    "\n",
    "# 유튜브 숏츠 URL\n",
    "url = \"https://www.youtube.com/shorts/Gt1W0B3Rg_Y?feature=share\"\n",
    "\n",
    "# yt-dlp 옵션 설정\n",
    "ydl_opts = {\n",
    "    'format': 'best',  # 최고 화질 선택\n",
    "    'outtmpl': './%(title)s.%(ext)s',  # 제목을 파일명으로 사용\n",
    "}\n",
    "\n",
    "# yt-dlp 객체 생성\n",
    "with yt_dlp.YoutubeDL(ydl_opts) as ydl:\n",
    "    print(\"영상 다운로드 및 파일명 설정 중...\")\n",
    "    info = ydl.extract_info(url, download=True)  # 다운로드 수행\n",
    "\n",
    "    # 다운로드된 영상 파일명 확인\n",
    "    title = info.get('title', 'unknown')\n",
    "    print(f\"'{title}.mp4' 파일이 저장되었습니다.\")\n"
   ]
  },
  {
   "cell_type": "code",
   "execution_count": 2,
   "metadata": {},
   "outputs": [
    {
     "name": "stdout",
     "output_type": "stream",
     "text": [
      "다운로드 중...\n",
      "동영상이 'D:/킴스짐은 혼자 운동하도록 놔두지않습니다.mp4'에 저장되었습니다.\n"
     ]
    }
   ],
   "source": [
    "import os\n",
    "import requests\n",
    "import instaloader\n",
    "\n",
    "# Instaloader 객체 생성\n",
    "loader = instaloader.Instaloader()\n",
    "\n",
    "# 인스타그램 게시물 URL\n",
    "url = \"https://www.instagram.com/reel/DDZgMyDTxeR/?utm_source=ig_web_copy_link&igsh=MzRlODBiNWFlZA==\"\n",
    "\n",
    "# 저장 경로 (D 드라이브 루트)\n",
    "save_dir = \"D:/\"\n",
    "print(\"다운로드 중...\")\n",
    "\n",
    "try:\n",
    "    # 게시물 정보를 가져오기\n",
    "    post = instaloader.Post.from_shortcode(loader.context, url.split(\"/\")[-2])\n",
    "\n",
    "    # 게시물 제목(캡션) 가져오기\n",
    "    title = post.caption\n",
    "    if not title:\n",
    "        title = \"untitled_post\"  # 제목이 없으면 기본값 설정\n",
    "    else:\n",
    "        # 파일명에 사용할 수 없는 문자 제거\n",
    "        title = \"\".join(c for c in title if c.isalnum() or c in \" -_\").strip()\n",
    "\n",
    "    # 동영상 URL 가져오기\n",
    "    video_url = post.video_url\n",
    "    if video_url:\n",
    "        # 저장할 파일 경로 설정\n",
    "        filename = f\"{title}.mp4\"\n",
    "        file_path = os.path.join(save_dir, filename)\n",
    "\n",
    "        # 동영상 다운로드 및 저장 (requests 사용)\n",
    "        response = requests.get(video_url)\n",
    "        if response.status_code == 200:\n",
    "            with open(file_path, \"wb\") as video_file:\n",
    "                video_file.write(response.content)\n",
    "            print(f\"동영상이 '{file_path}'에 저장되었습니다.\")\n",
    "        else:\n",
    "            print(f\"동영상 다운로드 실패: {response.status_code}\")\n",
    "    else:\n",
    "        print(\"해당 게시물에 동영상이 없습니다.\")\n",
    "except Exception as e:\n",
    "    print(f\"에러 발생: {e}\")\n"
   ]
  }
 ],
 "metadata": {
  "kernelspec": {
   "display_name": "Python 3",
   "language": "python",
   "name": "python3"
  },
  "language_info": {
   "codemirror_mode": {
    "name": "ipython",
    "version": 3
   },
   "file_extension": ".py",
   "mimetype": "text/x-python",
   "name": "python",
   "nbconvert_exporter": "python",
   "pygments_lexer": "ipython3",
   "version": "3.11.9"
  }
 },
 "nbformat": 4,
 "nbformat_minor": 2
}
